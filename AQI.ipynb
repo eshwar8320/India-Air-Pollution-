{
 "cells": [
  {
   "cell_type": "markdown",
   "id": "2bed183b",
   "metadata": {},
   "source": [
    "# 1. Getting The Data"
   ]
  },
  {
   "cell_type": "code",
   "execution_count": 20,
   "id": "3bf48673",
   "metadata": {},
   "outputs": [
    {
     "name": "stderr",
     "output_type": "stream",
     "text": [
      "C:\\Users\\darka\\AppData\\Local\\Temp\\ipykernel_14268\\3846487868.py:3: DtypeWarning: Columns (0) have mixed types. Specify dtype option on import or set low_memory=False.\n",
      "  data=pd.read_csv(\"data.csv\",encoding='cp1252')\n"
     ]
    },
    {
     "data": {
      "text/html": [
       "<div>\n",
       "<style scoped>\n",
       "    .dataframe tbody tr th:only-of-type {\n",
       "        vertical-align: middle;\n",
       "    }\n",
       "\n",
       "    .dataframe tbody tr th {\n",
       "        vertical-align: top;\n",
       "    }\n",
       "\n",
       "    .dataframe thead th {\n",
       "        text-align: right;\n",
       "    }\n",
       "</style>\n",
       "<table border=\"1\" class=\"dataframe\">\n",
       "  <thead>\n",
       "    <tr style=\"text-align: right;\">\n",
       "      <th></th>\n",
       "      <th>stn_code</th>\n",
       "      <th>sampling_date</th>\n",
       "      <th>state</th>\n",
       "      <th>location</th>\n",
       "      <th>agency</th>\n",
       "      <th>type</th>\n",
       "      <th>so2</th>\n",
       "      <th>no2</th>\n",
       "      <th>rspm</th>\n",
       "      <th>spm</th>\n",
       "      <th>location_monitoring_station</th>\n",
       "      <th>pm2_5</th>\n",
       "      <th>date</th>\n",
       "    </tr>\n",
       "  </thead>\n",
       "  <tbody>\n",
       "    <tr>\n",
       "      <th>0</th>\n",
       "      <td>150.0</td>\n",
       "      <td>February - M021990</td>\n",
       "      <td>Andhra Pradesh</td>\n",
       "      <td>Hyderabad</td>\n",
       "      <td>NaN</td>\n",
       "      <td>Residential, Rural and other Areas</td>\n",
       "      <td>4.8</td>\n",
       "      <td>17.4</td>\n",
       "      <td>NaN</td>\n",
       "      <td>NaN</td>\n",
       "      <td>NaN</td>\n",
       "      <td>NaN</td>\n",
       "      <td>1990-02-01</td>\n",
       "    </tr>\n",
       "    <tr>\n",
       "      <th>1</th>\n",
       "      <td>151.0</td>\n",
       "      <td>February - M021990</td>\n",
       "      <td>Andhra Pradesh</td>\n",
       "      <td>Hyderabad</td>\n",
       "      <td>NaN</td>\n",
       "      <td>Industrial Area</td>\n",
       "      <td>3.1</td>\n",
       "      <td>7.0</td>\n",
       "      <td>NaN</td>\n",
       "      <td>NaN</td>\n",
       "      <td>NaN</td>\n",
       "      <td>NaN</td>\n",
       "      <td>1990-02-01</td>\n",
       "    </tr>\n",
       "    <tr>\n",
       "      <th>2</th>\n",
       "      <td>152.0</td>\n",
       "      <td>February - M021990</td>\n",
       "      <td>Andhra Pradesh</td>\n",
       "      <td>Hyderabad</td>\n",
       "      <td>NaN</td>\n",
       "      <td>Residential, Rural and other Areas</td>\n",
       "      <td>6.2</td>\n",
       "      <td>28.5</td>\n",
       "      <td>NaN</td>\n",
       "      <td>NaN</td>\n",
       "      <td>NaN</td>\n",
       "      <td>NaN</td>\n",
       "      <td>1990-02-01</td>\n",
       "    </tr>\n",
       "    <tr>\n",
       "      <th>3</th>\n",
       "      <td>150.0</td>\n",
       "      <td>March - M031990</td>\n",
       "      <td>Andhra Pradesh</td>\n",
       "      <td>Hyderabad</td>\n",
       "      <td>NaN</td>\n",
       "      <td>Residential, Rural and other Areas</td>\n",
       "      <td>6.3</td>\n",
       "      <td>14.7</td>\n",
       "      <td>NaN</td>\n",
       "      <td>NaN</td>\n",
       "      <td>NaN</td>\n",
       "      <td>NaN</td>\n",
       "      <td>1990-03-01</td>\n",
       "    </tr>\n",
       "    <tr>\n",
       "      <th>4</th>\n",
       "      <td>151.0</td>\n",
       "      <td>March - M031990</td>\n",
       "      <td>Andhra Pradesh</td>\n",
       "      <td>Hyderabad</td>\n",
       "      <td>NaN</td>\n",
       "      <td>Industrial Area</td>\n",
       "      <td>4.7</td>\n",
       "      <td>7.5</td>\n",
       "      <td>NaN</td>\n",
       "      <td>NaN</td>\n",
       "      <td>NaN</td>\n",
       "      <td>NaN</td>\n",
       "      <td>1990-03-01</td>\n",
       "    </tr>\n",
       "  </tbody>\n",
       "</table>\n",
       "</div>"
      ],
      "text/plain": [
       "  stn_code       sampling_date           state   location agency  \\\n",
       "0    150.0  February - M021990  Andhra Pradesh  Hyderabad    NaN   \n",
       "1    151.0  February - M021990  Andhra Pradesh  Hyderabad    NaN   \n",
       "2    152.0  February - M021990  Andhra Pradesh  Hyderabad    NaN   \n",
       "3    150.0     March - M031990  Andhra Pradesh  Hyderabad    NaN   \n",
       "4    151.0     March - M031990  Andhra Pradesh  Hyderabad    NaN   \n",
       "\n",
       "                                 type  so2   no2  rspm  spm  \\\n",
       "0  Residential, Rural and other Areas  4.8  17.4   NaN  NaN   \n",
       "1                     Industrial Area  3.1   7.0   NaN  NaN   \n",
       "2  Residential, Rural and other Areas  6.2  28.5   NaN  NaN   \n",
       "3  Residential, Rural and other Areas  6.3  14.7   NaN  NaN   \n",
       "4                     Industrial Area  4.7   7.5   NaN  NaN   \n",
       "\n",
       "  location_monitoring_station  pm2_5        date  \n",
       "0                         NaN    NaN  1990-02-01  \n",
       "1                         NaN    NaN  1990-02-01  \n",
       "2                         NaN    NaN  1990-02-01  \n",
       "3                         NaN    NaN  1990-03-01  \n",
       "4                         NaN    NaN  1990-03-01  "
      ]
     },
     "execution_count": 20,
     "metadata": {},
     "output_type": "execute_result"
    }
   ],
   "source": [
    "import numpy as np \n",
    "import pandas as pd \n",
    "data=pd.read_csv(\"data.csv\",encoding='cp1252')\n",
    "pd.set_option('display.max_columns',None) # display all the features \n",
    "data.head(5)"
   ]
  },
  {
   "cell_type": "markdown",
   "id": "4b5ed5b3",
   "metadata": {},
   "source": [
    "# 2. Analysing the Data"
   ]
  },
  {
   "cell_type": "markdown",
   "id": "1c590e94",
   "metadata": {},
   "source": [
    "Data Information"
   ]
  },
  {
   "cell_type": "code",
   "execution_count": 93,
   "id": "9b310f25",
   "metadata": {},
   "outputs": [
    {
     "name": "stdout",
     "output_type": "stream",
     "text": [
      "<class 'pandas.core.frame.DataFrame'>\n",
      "RangeIndex: 435742 entries, 0 to 435741\n",
      "Data columns (total 13 columns):\n",
      " #   Column                       Non-Null Count   Dtype  \n",
      "---  ------                       --------------   -----  \n",
      " 0   stn_code                     291665 non-null  object \n",
      " 1   sampling_date                435739 non-null  object \n",
      " 2   state                        435742 non-null  object \n",
      " 3   location                     435739 non-null  object \n",
      " 4   agency                       286261 non-null  object \n",
      " 5   type                         430349 non-null  object \n",
      " 6   so2                          401096 non-null  float64\n",
      " 7   no2                          419509 non-null  float64\n",
      " 8   rspm                         395520 non-null  float64\n",
      " 9   spm                          198355 non-null  float64\n",
      " 10  location_monitoring_station  408251 non-null  object \n",
      " 11  pm2_5                        9314 non-null    float64\n",
      " 12  date                         435735 non-null  object \n",
      "dtypes: float64(5), object(8)\n",
      "memory usage: 43.2+ MB\n",
      "None\n"
     ]
    }
   ],
   "source": [
    "print(data.info())"
   ]
  },
  {
   "cell_type": "markdown",
   "id": "02eef021",
   "metadata": {},
   "source": [
    "- Dataset contains 13 features, where there 8 features in object type and 5 features in float64 type."
   ]
  },
  {
   "cell_type": "code",
   "execution_count": 94,
   "id": "a961c282",
   "metadata": {},
   "outputs": [
    {
     "data": {
      "text/html": [
       "<div>\n",
       "<style scoped>\n",
       "    .dataframe tbody tr th:only-of-type {\n",
       "        vertical-align: middle;\n",
       "    }\n",
       "\n",
       "    .dataframe tbody tr th {\n",
       "        vertical-align: top;\n",
       "    }\n",
       "\n",
       "    .dataframe thead th {\n",
       "        text-align: right;\n",
       "    }\n",
       "</style>\n",
       "<table border=\"1\" class=\"dataframe\">\n",
       "  <thead>\n",
       "    <tr style=\"text-align: right;\">\n",
       "      <th></th>\n",
       "      <th>so2</th>\n",
       "      <th>no2</th>\n",
       "      <th>rspm</th>\n",
       "      <th>spm</th>\n",
       "      <th>pm2_5</th>\n",
       "    </tr>\n",
       "  </thead>\n",
       "  <tbody>\n",
       "    <tr>\n",
       "      <th>count</th>\n",
       "      <td>401096.000000</td>\n",
       "      <td>419509.000000</td>\n",
       "      <td>395520.000000</td>\n",
       "      <td>198355.000000</td>\n",
       "      <td>9314.000000</td>\n",
       "    </tr>\n",
       "    <tr>\n",
       "      <th>mean</th>\n",
       "      <td>10.829414</td>\n",
       "      <td>25.809623</td>\n",
       "      <td>108.832784</td>\n",
       "      <td>220.783480</td>\n",
       "      <td>40.791467</td>\n",
       "    </tr>\n",
       "    <tr>\n",
       "      <th>std</th>\n",
       "      <td>11.177187</td>\n",
       "      <td>18.503086</td>\n",
       "      <td>74.872430</td>\n",
       "      <td>151.395457</td>\n",
       "      <td>30.832525</td>\n",
       "    </tr>\n",
       "    <tr>\n",
       "      <th>min</th>\n",
       "      <td>0.000000</td>\n",
       "      <td>0.000000</td>\n",
       "      <td>0.000000</td>\n",
       "      <td>0.000000</td>\n",
       "      <td>3.000000</td>\n",
       "    </tr>\n",
       "    <tr>\n",
       "      <th>25%</th>\n",
       "      <td>5.000000</td>\n",
       "      <td>14.000000</td>\n",
       "      <td>56.000000</td>\n",
       "      <td>111.000000</td>\n",
       "      <td>24.000000</td>\n",
       "    </tr>\n",
       "    <tr>\n",
       "      <th>50%</th>\n",
       "      <td>8.000000</td>\n",
       "      <td>22.000000</td>\n",
       "      <td>90.000000</td>\n",
       "      <td>187.000000</td>\n",
       "      <td>32.000000</td>\n",
       "    </tr>\n",
       "    <tr>\n",
       "      <th>75%</th>\n",
       "      <td>13.700000</td>\n",
       "      <td>32.200000</td>\n",
       "      <td>142.000000</td>\n",
       "      <td>296.000000</td>\n",
       "      <td>46.000000</td>\n",
       "    </tr>\n",
       "    <tr>\n",
       "      <th>max</th>\n",
       "      <td>909.000000</td>\n",
       "      <td>876.000000</td>\n",
       "      <td>6307.033333</td>\n",
       "      <td>3380.000000</td>\n",
       "      <td>504.000000</td>\n",
       "    </tr>\n",
       "  </tbody>\n",
       "</table>\n",
       "</div>"
      ],
      "text/plain": [
       "                 so2            no2           rspm            spm        pm2_5\n",
       "count  401096.000000  419509.000000  395520.000000  198355.000000  9314.000000\n",
       "mean       10.829414      25.809623     108.832784     220.783480    40.791467\n",
       "std        11.177187      18.503086      74.872430     151.395457    30.832525\n",
       "min         0.000000       0.000000       0.000000       0.000000     3.000000\n",
       "25%         5.000000      14.000000      56.000000     111.000000    24.000000\n",
       "50%         8.000000      22.000000      90.000000     187.000000    32.000000\n",
       "75%        13.700000      32.200000     142.000000     296.000000    46.000000\n",
       "max       909.000000     876.000000    6307.033333    3380.000000   504.000000"
      ]
     },
     "execution_count": 94,
     "metadata": {},
     "output_type": "execute_result"
    }
   ],
   "source": [
    "data.describe ()"
   ]
  },
  {
   "cell_type": "markdown",
   "id": "2088e2be",
   "metadata": {},
   "source": [
    "## Checking Duplicates Values"
   ]
  },
  {
   "cell_type": "code",
   "execution_count": 95,
   "id": "5474f5ed",
   "metadata": {},
   "outputs": [
    {
     "name": "stdout",
     "output_type": "stream",
     "text": [
      "False    435068\n",
      "True        674\n",
      "dtype: int64\n",
      "435068\n"
     ]
    }
   ],
   "source": [
    "print(data.duplicated().value_counts())\n",
    "data.drop_duplicates(inplace = True)\n",
    "print(len(data))"
   ]
  },
  {
   "cell_type": "markdown",
   "id": "4f532caf",
   "metadata": {},
   "source": [
    "## Checking Missing Values"
   ]
  },
  {
   "cell_type": "code",
   "execution_count": 96,
   "id": "13330901",
   "metadata": {},
   "outputs": [
    {
     "name": "stdout",
     "output_type": "stream",
     "text": [
      "Data columns with null values:\n",
      " stn_code                       144077\n",
      "sampling_date                       3\n",
      "state                               0\n",
      "location                            3\n",
      "agency                         149466\n",
      "type                             5357\n",
      "so2                             34632\n",
      "no2                             16222\n",
      "rspm                            40035\n",
      "spm                            236908\n",
      "location_monitoring_station     27303\n",
      "pm2_5                          425754\n",
      "date                                7\n",
      "dtype: int64\n"
     ]
    }
   ],
   "source": [
    "print('Data columns with null values:\\n',\n",
    "     data.isnull().sum())"
   ]
  },
  {
   "cell_type": "markdown",
   "id": "ad9d29aa",
   "metadata": {},
   "source": [
    "* We can see that there are many null values present in feature:stn_code, agency, type, so2, no2, rspm, spm, location_monitoring_station, pm2_5"
   ]
  },
  {
   "cell_type": "markdown",
   "id": "5386970d",
   "metadata": {},
   "source": [
    "## Checking Unique Values\n"
   ]
  },
  {
   "cell_type": "code",
   "execution_count": 97,
   "id": "e0c4bbab",
   "metadata": {},
   "outputs": [
    {
     "data": {
      "text/plain": [
       "stn_code                        803\n",
       "sampling_date                  5485\n",
       "state                            37\n",
       "location                        304\n",
       "agency                           64\n",
       "type                             10\n",
       "so2                            4197\n",
       "no2                            6864\n",
       "rspm                           6065\n",
       "spm                            6668\n",
       "location_monitoring_station     991\n",
       "pm2_5                           433\n",
       "date                           5067\n",
       "dtype: int64"
      ]
     },
     "execution_count": 97,
     "metadata": {},
     "output_type": "execute_result"
    }
   ],
   "source": [
    "data.nunique()"
   ]
  },
  {
   "cell_type": "markdown",
   "id": "7c442ae3",
   "metadata": {},
   "source": [
    "- From the above output we can have an overall idea of how many unique values present in the dataset. "
   ]
  },
  {
   "cell_type": "markdown",
   "id": "22f85290",
   "metadata": {},
   "source": [
    "# 3. Data Filteration & Modification"
   ]
  },
  {
   "cell_type": "markdown",
   "id": "c72997bb",
   "metadata": {},
   "source": [
    "## Dropping unnessesary column(s)"
   ]
  },
  {
   "cell_type": "markdown",
   "id": "3bd76d22",
   "metadata": {},
   "source": [
    "* stn_code, agency & sampling_date  this two features is irrelevant to our analysis so let's remove this feature"
   ]
  },
  {
   "cell_type": "code",
   "execution_count": 21,
   "id": "725bb101",
   "metadata": {},
   "outputs": [],
   "source": [
    "data=data.drop(['stn_code'],axis=1)\n",
    "data=data.drop(['agency'],axis=1)\n",
    "data=data.drop(['sampling_date'],axis=1)"
   ]
  },
  {
   "cell_type": "markdown",
   "id": "b8da54ad",
   "metadata": {},
   "source": [
    "* We are replacing it all the types of locations and getting them down to only 4 following categories:\n",
    "\n",
    "   * Residential Area\n",
    "\n",
    "   * Industrial Area\n",
    "\n",
    "   * Sensitive Area\n",
    "\n",
    "   * RIRUO "
   ]
  },
  {
   "cell_type": "code",
   "execution_count": 22,
   "id": "d5712c8f",
   "metadata": {},
   "outputs": [
    {
     "data": {
      "text/plain": [
       "Residential Area    265963\n",
       "Industrial Area     148071\n",
       "Sensitive Area       15011\n",
       "RIRUO                 1304\n",
       "Name: type, dtype: int64"
      ]
     },
     "execution_count": 22,
     "metadata": {},
     "output_type": "execute_result"
    }
   ],
   "source": [
    "data['type'].replace('Residential, Rural and other Areas','Residential Area',inplace = True)\n",
    "data['type'].replace('Residential','Residential Area',inplace = True)\n",
    "data['type'].replace('Residential and others','Residential Area',inplace = True)\n",
    "data['type'].replace('Industrial Areas','Industrial Area',inplace = True)\n",
    "data['type'].replace('Industrial','Industrial Area',inplace = True)\n",
    "data['type'].replace('Sensitive','Sensitive Area',inplace = True)\n",
    "data['type'].replace('Sensitive Areas','Sensitive Area',inplace = True)\n",
    "\n",
    "data['type'].value_counts()"
   ]
  },
  {
   "cell_type": "code",
   "execution_count": 23,
   "id": "ba4b46f5",
   "metadata": {},
   "outputs": [
    {
     "data": {
      "text/html": [
       "<div>\n",
       "<style scoped>\n",
       "    .dataframe tbody tr th:only-of-type {\n",
       "        vertical-align: middle;\n",
       "    }\n",
       "\n",
       "    .dataframe tbody tr th {\n",
       "        vertical-align: top;\n",
       "    }\n",
       "\n",
       "    .dataframe thead th {\n",
       "        text-align: right;\n",
       "    }\n",
       "</style>\n",
       "<table border=\"1\" class=\"dataframe\">\n",
       "  <thead>\n",
       "    <tr style=\"text-align: right;\">\n",
       "      <th></th>\n",
       "      <th>state</th>\n",
       "      <th>location</th>\n",
       "      <th>type</th>\n",
       "      <th>so2</th>\n",
       "      <th>no2</th>\n",
       "      <th>rspm</th>\n",
       "      <th>spm</th>\n",
       "      <th>location_monitoring_station</th>\n",
       "      <th>pm2_5</th>\n",
       "      <th>date</th>\n",
       "    </tr>\n",
       "  </thead>\n",
       "  <tbody>\n",
       "    <tr>\n",
       "      <th>0</th>\n",
       "      <td>Andhra Pradesh</td>\n",
       "      <td>Hyderabad</td>\n",
       "      <td>Residential Area</td>\n",
       "      <td>4.8</td>\n",
       "      <td>17.4</td>\n",
       "      <td>NaN</td>\n",
       "      <td>NaN</td>\n",
       "      <td>NaN</td>\n",
       "      <td>NaN</td>\n",
       "      <td>1990-02-01</td>\n",
       "    </tr>\n",
       "    <tr>\n",
       "      <th>1</th>\n",
       "      <td>Andhra Pradesh</td>\n",
       "      <td>Hyderabad</td>\n",
       "      <td>Industrial Area</td>\n",
       "      <td>3.1</td>\n",
       "      <td>7.0</td>\n",
       "      <td>NaN</td>\n",
       "      <td>NaN</td>\n",
       "      <td>NaN</td>\n",
       "      <td>NaN</td>\n",
       "      <td>1990-02-01</td>\n",
       "    </tr>\n",
       "    <tr>\n",
       "      <th>2</th>\n",
       "      <td>Andhra Pradesh</td>\n",
       "      <td>Hyderabad</td>\n",
       "      <td>Residential Area</td>\n",
       "      <td>6.2</td>\n",
       "      <td>28.5</td>\n",
       "      <td>NaN</td>\n",
       "      <td>NaN</td>\n",
       "      <td>NaN</td>\n",
       "      <td>NaN</td>\n",
       "      <td>1990-02-01</td>\n",
       "    </tr>\n",
       "    <tr>\n",
       "      <th>3</th>\n",
       "      <td>Andhra Pradesh</td>\n",
       "      <td>Hyderabad</td>\n",
       "      <td>Residential Area</td>\n",
       "      <td>6.3</td>\n",
       "      <td>14.7</td>\n",
       "      <td>NaN</td>\n",
       "      <td>NaN</td>\n",
       "      <td>NaN</td>\n",
       "      <td>NaN</td>\n",
       "      <td>1990-03-01</td>\n",
       "    </tr>\n",
       "    <tr>\n",
       "      <th>4</th>\n",
       "      <td>Andhra Pradesh</td>\n",
       "      <td>Hyderabad</td>\n",
       "      <td>Industrial Area</td>\n",
       "      <td>4.7</td>\n",
       "      <td>7.5</td>\n",
       "      <td>NaN</td>\n",
       "      <td>NaN</td>\n",
       "      <td>NaN</td>\n",
       "      <td>NaN</td>\n",
       "      <td>1990-03-01</td>\n",
       "    </tr>\n",
       "  </tbody>\n",
       "</table>\n",
       "</div>"
      ],
      "text/plain": [
       "            state   location              type  so2   no2  rspm  spm  \\\n",
       "0  Andhra Pradesh  Hyderabad  Residential Area  4.8  17.4   NaN  NaN   \n",
       "1  Andhra Pradesh  Hyderabad   Industrial Area  3.1   7.0   NaN  NaN   \n",
       "2  Andhra Pradesh  Hyderabad  Residential Area  6.2  28.5   NaN  NaN   \n",
       "3  Andhra Pradesh  Hyderabad  Residential Area  6.3  14.7   NaN  NaN   \n",
       "4  Andhra Pradesh  Hyderabad   Industrial Area  4.7   7.5   NaN  NaN   \n",
       "\n",
       "  location_monitoring_station  pm2_5        date  \n",
       "0                         NaN    NaN  1990-02-01  \n",
       "1                         NaN    NaN  1990-02-01  \n",
       "2                         NaN    NaN  1990-02-01  \n",
       "3                         NaN    NaN  1990-03-01  \n",
       "4                         NaN    NaN  1990-03-01  "
      ]
     },
     "execution_count": 23,
     "metadata": {},
     "output_type": "execute_result"
    }
   ],
   "source": [
    "data.head()"
   ]
  },
  {
   "cell_type": "markdown",
   "id": "4a078a03",
   "metadata": {},
   "source": [
    "# Handling Null Values"
   ]
  },
  {
   "cell_type": "markdown",
   "id": "10d9d0a2",
   "metadata": {},
   "source": [
    "* As we have seen already that in some features the null values are very few so we can remove those rows directly, it will hadrly effect our overall analysis. Below are the features that we are removing:\n",
    " \n",
    " 1. location\n",
    " 2. date\n",
    "\n",
    "* And also we have seen that there few feature columns having a huge chunk on missing values. By dropping those rows from tha dataset will negetively effect our further analysis, so instead of removing those null values we are going to replace them with the \"mean value\". Below are the features that we are going to replace values:\n",
    "\n",
    " 1. so2\n",
    " 2. no2\n",
    " 3. rspm\n",
    " 4. spm\n",
    " 5. pm2_5"
   ]
  },
  {
   "cell_type": "code",
   "execution_count": 24,
   "id": "f12b93d1",
   "metadata": {},
   "outputs": [],
   "source": [
    "data.dropna(subset=['location'],how='any',inplace=True)     # droping null value rows of \"location\" column\n",
    "data.dropna(subset=['date'],how='any',inplace=True)   # droping null value rows of \"date\" column"
   ]
  },
  {
   "cell_type": "code",
   "execution_count": 25,
   "id": "19a9ca58",
   "metadata": {},
   "outputs": [
    {
     "name": "stdout",
     "output_type": "stream",
     "text": [
      "The mean values of so2,no2,rspm,spm,pm2_5\n",
      "\n",
      "meanVal_1 - so2 :  10.829427580620525\n",
      "meanVal_2 - no2 :  25.809659222747314\n",
      "meanVal_3 - rspm :  108.83309095208052\n",
      "meanVal_4 - spm :  220.78347959832885\n",
      "meanVal_4 - pm2_5 :  40.791467038866244\n"
     ]
    }
   ],
   "source": [
    "# mean values of so2,no2,rspm,spm,pm2_5\n",
    "print(\"The mean values of so2,no2,rspm,spm,pm2_5\\n\")\n",
    "meanVal_1 = data['so2'].mean()\n",
    "meanVal_2 = data['no2'].mean()\n",
    "meanVal_3 = data['rspm'].mean()\n",
    "meanVal_4 = data['spm'].mean()\n",
    "meanVal_5 = data['pm2_5'].mean()\n",
    "print(\"meanVal_1 - so2 : \", meanVal_1)\n",
    "print(\"meanVal_2 - no2 : \", meanVal_2)\n",
    "print(\"meanVal_3 - rspm : \", meanVal_3)\n",
    "print(\"meanVal_4 - spm : \", meanVal_4)\n",
    "print(\"meanVal_4 - pm2_5 : \", meanVal_5)"
   ]
  },
  {
   "cell_type": "code",
   "execution_count": 26,
   "id": "53bfdfac",
   "metadata": {},
   "outputs": [],
   "source": [
    "data['so2'].fillna(value=meanVal_1, inplace=True)  # replacing NaN value with \"mean value\"\n",
    "data['no2'].fillna(value=meanVal_2, inplace=True)       # replacing NaN value with \"mean value\"\n",
    "data['rspm'].fillna(value=meanVal_3, inplace=True)    # replacing NaN value with \"mean value\"\n",
    "data['spm'].fillna(value=meanVal_4, inplace=True)    # replacing NaN value with \"mean value\"\n",
    "data['pm2_5'].fillna(value=meanVal_5, inplace=True)    # replacing NaN value with \"mean value\""
   ]
  },
  {
   "cell_type": "code",
   "execution_count": 27,
   "id": "08464cc9",
   "metadata": {},
   "outputs": [
    {
     "data": {
      "text/html": [
       "<div>\n",
       "<style scoped>\n",
       "    .dataframe tbody tr th:only-of-type {\n",
       "        vertical-align: middle;\n",
       "    }\n",
       "\n",
       "    .dataframe tbody tr th {\n",
       "        vertical-align: top;\n",
       "    }\n",
       "\n",
       "    .dataframe thead th {\n",
       "        text-align: right;\n",
       "    }\n",
       "</style>\n",
       "<table border=\"1\" class=\"dataframe\">\n",
       "  <thead>\n",
       "    <tr style=\"text-align: right;\">\n",
       "      <th></th>\n",
       "      <th>state</th>\n",
       "      <th>location</th>\n",
       "      <th>type</th>\n",
       "      <th>so2</th>\n",
       "      <th>no2</th>\n",
       "      <th>rspm</th>\n",
       "      <th>spm</th>\n",
       "      <th>location_monitoring_station</th>\n",
       "      <th>pm2_5</th>\n",
       "      <th>date</th>\n",
       "    </tr>\n",
       "  </thead>\n",
       "  <tbody>\n",
       "    <tr>\n",
       "      <th>0</th>\n",
       "      <td>Andhra Pradesh</td>\n",
       "      <td>Hyderabad</td>\n",
       "      <td>Residential Area</td>\n",
       "      <td>4.8</td>\n",
       "      <td>17.4</td>\n",
       "      <td>108.833091</td>\n",
       "      <td>220.78348</td>\n",
       "      <td>NaN</td>\n",
       "      <td>40.791467</td>\n",
       "      <td>1990-02-01</td>\n",
       "    </tr>\n",
       "    <tr>\n",
       "      <th>1</th>\n",
       "      <td>Andhra Pradesh</td>\n",
       "      <td>Hyderabad</td>\n",
       "      <td>Industrial Area</td>\n",
       "      <td>3.1</td>\n",
       "      <td>7.0</td>\n",
       "      <td>108.833091</td>\n",
       "      <td>220.78348</td>\n",
       "      <td>NaN</td>\n",
       "      <td>40.791467</td>\n",
       "      <td>1990-02-01</td>\n",
       "    </tr>\n",
       "    <tr>\n",
       "      <th>2</th>\n",
       "      <td>Andhra Pradesh</td>\n",
       "      <td>Hyderabad</td>\n",
       "      <td>Residential Area</td>\n",
       "      <td>6.2</td>\n",
       "      <td>28.5</td>\n",
       "      <td>108.833091</td>\n",
       "      <td>220.78348</td>\n",
       "      <td>NaN</td>\n",
       "      <td>40.791467</td>\n",
       "      <td>1990-02-01</td>\n",
       "    </tr>\n",
       "    <tr>\n",
       "      <th>3</th>\n",
       "      <td>Andhra Pradesh</td>\n",
       "      <td>Hyderabad</td>\n",
       "      <td>Residential Area</td>\n",
       "      <td>6.3</td>\n",
       "      <td>14.7</td>\n",
       "      <td>108.833091</td>\n",
       "      <td>220.78348</td>\n",
       "      <td>NaN</td>\n",
       "      <td>40.791467</td>\n",
       "      <td>1990-03-01</td>\n",
       "    </tr>\n",
       "    <tr>\n",
       "      <th>4</th>\n",
       "      <td>Andhra Pradesh</td>\n",
       "      <td>Hyderabad</td>\n",
       "      <td>Industrial Area</td>\n",
       "      <td>4.7</td>\n",
       "      <td>7.5</td>\n",
       "      <td>108.833091</td>\n",
       "      <td>220.78348</td>\n",
       "      <td>NaN</td>\n",
       "      <td>40.791467</td>\n",
       "      <td>1990-03-01</td>\n",
       "    </tr>\n",
       "  </tbody>\n",
       "</table>\n",
       "</div>"
      ],
      "text/plain": [
       "            state   location              type  so2   no2        rspm  \\\n",
       "0  Andhra Pradesh  Hyderabad  Residential Area  4.8  17.4  108.833091   \n",
       "1  Andhra Pradesh  Hyderabad   Industrial Area  3.1   7.0  108.833091   \n",
       "2  Andhra Pradesh  Hyderabad  Residential Area  6.2  28.5  108.833091   \n",
       "3  Andhra Pradesh  Hyderabad  Residential Area  6.3  14.7  108.833091   \n",
       "4  Andhra Pradesh  Hyderabad   Industrial Area  4.7   7.5  108.833091   \n",
       "\n",
       "         spm location_monitoring_station      pm2_5        date  \n",
       "0  220.78348                         NaN  40.791467  1990-02-01  \n",
       "1  220.78348                         NaN  40.791467  1990-02-01  \n",
       "2  220.78348                         NaN  40.791467  1990-02-01  \n",
       "3  220.78348                         NaN  40.791467  1990-03-01  \n",
       "4  220.78348                         NaN  40.791467  1990-03-01  "
      ]
     },
     "execution_count": 27,
     "metadata": {},
     "output_type": "execute_result"
    }
   ],
   "source": [
    "data.head()"
   ]
  },
  {
   "cell_type": "markdown",
   "id": "62e8b1c4",
   "metadata": {},
   "source": [
    "## Now let's check again if any null values are present or not."
   ]
  },
  {
   "cell_type": "code",
   "execution_count": 28,
   "id": "62dcf03e",
   "metadata": {},
   "outputs": [
    {
     "name": "stdout",
     "output_type": "stream",
     "text": [
      "Data columns with null values:\n",
      " state                              0\n",
      "location                           0\n",
      "type                            5390\n",
      "so2                                0\n",
      "no2                                0\n",
      "rspm                               0\n",
      "spm                                0\n",
      "location_monitoring_station    27488\n",
      "pm2_5                              0\n",
      "date                               0\n",
      "dtype: int64\n"
     ]
    }
   ],
   "source": [
    "print('Data columns with null values:\\n',\n",
    "     data.isnull().sum())"
   ]
  },
  {
   "cell_type": "markdown",
   "id": "7cadd393",
   "metadata": {},
   "source": [
    "* So now there is no null values in so2, no2, rspm, spm, pm2_5 and now we can calculate AQI for the above dataset"
   ]
  },
  {
   "cell_type": "markdown",
   "id": "01d3050d",
   "metadata": {},
   "source": [
    "# 4. Air Quality Index"
   ]
  },
  {
   "cell_type": "markdown",
   "id": "bbee4782",
   "metadata": {},
   "source": [
    "* AQI: The air quality index is an index for reporting air quality on a daily basis.  In other words, it is a measure of how air pollution affects one’s health within a short time period. The AQI is calculated based on the average concentration of a particular pollutant measured over a standard time interval. Generally, the time interval is 24 hours for most pollutants, 8 hours for carbon monoxide and ozone.\n",
    "\n",
    "* We can see how air pollution is by looking at the AQI level:\n",
    "  * Good(0 – 50)\n",
    "  * Moderate(51 – 100)\n",
    "  * Unhealthy(101 – 150)\n",
    "  * Unhealthy for Strong People(151 – 200)\n",
    "  * Hazardous(201+)"
   ]
  },
  {
   "cell_type": "code",
   "execution_count": 30,
   "id": "39cbce58",
   "metadata": {},
   "outputs": [
    {
     "data": {
      "text/html": [
       "<div>\n",
       "<style scoped>\n",
       "    .dataframe tbody tr th:only-of-type {\n",
       "        vertical-align: middle;\n",
       "    }\n",
       "\n",
       "    .dataframe tbody tr th {\n",
       "        vertical-align: top;\n",
       "    }\n",
       "\n",
       "    .dataframe thead th {\n",
       "        text-align: right;\n",
       "    }\n",
       "</style>\n",
       "<table border=\"1\" class=\"dataframe\">\n",
       "  <thead>\n",
       "    <tr style=\"text-align: right;\">\n",
       "      <th></th>\n",
       "      <th>so2</th>\n",
       "      <th>si</th>\n",
       "    </tr>\n",
       "  </thead>\n",
       "  <tbody>\n",
       "    <tr>\n",
       "      <th>0</th>\n",
       "      <td>4.8</td>\n",
       "      <td>6.000</td>\n",
       "    </tr>\n",
       "    <tr>\n",
       "      <th>1</th>\n",
       "      <td>3.1</td>\n",
       "      <td>3.875</td>\n",
       "    </tr>\n",
       "    <tr>\n",
       "      <th>2</th>\n",
       "      <td>6.2</td>\n",
       "      <td>7.750</td>\n",
       "    </tr>\n",
       "    <tr>\n",
       "      <th>3</th>\n",
       "      <td>6.3</td>\n",
       "      <td>7.875</td>\n",
       "    </tr>\n",
       "    <tr>\n",
       "      <th>4</th>\n",
       "      <td>4.7</td>\n",
       "      <td>5.875</td>\n",
       "    </tr>\n",
       "  </tbody>\n",
       "</table>\n",
       "</div>"
      ],
      "text/plain": [
       "   so2     si\n",
       "0  4.8  6.000\n",
       "1  3.1  3.875\n",
       "2  6.2  7.750\n",
       "3  6.3  7.875\n",
       "4  4.7  5.875"
      ]
     },
     "execution_count": 30,
     "metadata": {},
     "output_type": "execute_result"
    }
   ],
   "source": [
    "#Function to calculate so2 individual pollutant index(si)\n",
    "def calculate_si(so2):\n",
    "    si=0\n",
    "    if (so2<=40):\n",
    "        si= so2*(50/40)\n",
    "    elif (so2>40 and so2<=80):\n",
    "        si= 50+(so2-40)*(50/40)\n",
    "    elif (so2>80 and so2<=380):\n",
    "        si= 100+(so2-80)*(100/300)\n",
    "    elif (so2>380 and so2<=800):\n",
    "        si= 200+(so2-380)*(100/800)\n",
    "    elif (so2>800 and so2<=1600):\n",
    "        si= 300+(so2-800)*(100/800)\n",
    "    else:\n",
    "        si= 400+(so2-1600)*(100/800)\n",
    "    return si\n",
    "data['si']=data['so2'].apply(calculate_si)\n",
    "df= data[['so2','si']]\n",
    "df.head()"
   ]
  },
  {
   "cell_type": "code",
   "execution_count": 31,
   "id": "a44c7ff7",
   "metadata": {},
   "outputs": [
    {
     "data": {
      "text/html": [
       "<div>\n",
       "<style scoped>\n",
       "    .dataframe tbody tr th:only-of-type {\n",
       "        vertical-align: middle;\n",
       "    }\n",
       "\n",
       "    .dataframe tbody tr th {\n",
       "        vertical-align: top;\n",
       "    }\n",
       "\n",
       "    .dataframe thead th {\n",
       "        text-align: right;\n",
       "    }\n",
       "</style>\n",
       "<table border=\"1\" class=\"dataframe\">\n",
       "  <thead>\n",
       "    <tr style=\"text-align: right;\">\n",
       "      <th></th>\n",
       "      <th>no2</th>\n",
       "      <th>ni</th>\n",
       "    </tr>\n",
       "  </thead>\n",
       "  <tbody>\n",
       "    <tr>\n",
       "      <th>0</th>\n",
       "      <td>17.4</td>\n",
       "      <td>21.750</td>\n",
       "    </tr>\n",
       "    <tr>\n",
       "      <th>1</th>\n",
       "      <td>7.0</td>\n",
       "      <td>8.750</td>\n",
       "    </tr>\n",
       "    <tr>\n",
       "      <th>2</th>\n",
       "      <td>28.5</td>\n",
       "      <td>35.625</td>\n",
       "    </tr>\n",
       "    <tr>\n",
       "      <th>3</th>\n",
       "      <td>14.7</td>\n",
       "      <td>18.375</td>\n",
       "    </tr>\n",
       "    <tr>\n",
       "      <th>4</th>\n",
       "      <td>7.5</td>\n",
       "      <td>9.375</td>\n",
       "    </tr>\n",
       "  </tbody>\n",
       "</table>\n",
       "</div>"
      ],
      "text/plain": [
       "    no2      ni\n",
       "0  17.4  21.750\n",
       "1   7.0   8.750\n",
       "2  28.5  35.625\n",
       "3  14.7  18.375\n",
       "4   7.5   9.375"
      ]
     },
     "execution_count": 31,
     "metadata": {},
     "output_type": "execute_result"
    }
   ],
   "source": [
    "#Function to calculate no2 individual pollutant index(ni)\n",
    "def calculate_ni(no2):\n",
    "    ni=0\n",
    "    if(no2<=40):\n",
    "        ni= no2*50/40\n",
    "    elif(no2>40 and no2<=80):\n",
    "        ni= 50+(no2-14)*(50/40)\n",
    "    elif(no2>80 and no2<=180):\n",
    "        ni= 100+(no2-80)*(100/100)\n",
    "    elif(no2>180 and no2<=280):\n",
    "        ni= 200+(no2-180)*(100/100)\n",
    "    elif(no2>280 and no2<=400):\n",
    "        ni= 300+(no2-280)*(100/120)\n",
    "    else:\n",
    "        ni= 400+(no2-400)*(100/120)\n",
    "    return ni\n",
    "data['ni']=data['no2'].apply(calculate_ni)\n",
    "df= data[['no2','ni']]\n",
    "df.head()"
   ]
  },
  {
   "cell_type": "code",
   "execution_count": 32,
   "id": "8dce4325",
   "metadata": {},
   "outputs": [
    {
     "data": {
      "text/html": [
       "<div>\n",
       "<style scoped>\n",
       "    .dataframe tbody tr th:only-of-type {\n",
       "        vertical-align: middle;\n",
       "    }\n",
       "\n",
       "    .dataframe tbody tr th {\n",
       "        vertical-align: top;\n",
       "    }\n",
       "\n",
       "    .dataframe thead th {\n",
       "        text-align: right;\n",
       "    }\n",
       "</style>\n",
       "<table border=\"1\" class=\"dataframe\">\n",
       "  <thead>\n",
       "    <tr style=\"text-align: right;\">\n",
       "      <th></th>\n",
       "      <th>rspm</th>\n",
       "      <th>rpi</th>\n",
       "    </tr>\n",
       "  </thead>\n",
       "  <tbody>\n",
       "    <tr>\n",
       "      <th>435734</th>\n",
       "      <td>148.0</td>\n",
       "      <td>122.666667</td>\n",
       "    </tr>\n",
       "    <tr>\n",
       "      <th>435735</th>\n",
       "      <td>131.0</td>\n",
       "      <td>117.000000</td>\n",
       "    </tr>\n",
       "    <tr>\n",
       "      <th>435736</th>\n",
       "      <td>140.0</td>\n",
       "      <td>120.000000</td>\n",
       "    </tr>\n",
       "    <tr>\n",
       "      <th>435737</th>\n",
       "      <td>143.0</td>\n",
       "      <td>121.000000</td>\n",
       "    </tr>\n",
       "    <tr>\n",
       "      <th>435738</th>\n",
       "      <td>171.0</td>\n",
       "      <td>130.333333</td>\n",
       "    </tr>\n",
       "  </tbody>\n",
       "</table>\n",
       "</div>"
      ],
      "text/plain": [
       "         rspm         rpi\n",
       "435734  148.0  122.666667\n",
       "435735  131.0  117.000000\n",
       "435736  140.0  120.000000\n",
       "435737  143.0  121.000000\n",
       "435738  171.0  130.333333"
      ]
     },
     "execution_count": 32,
     "metadata": {},
     "output_type": "execute_result"
    }
   ],
   "source": [
    "#Function to calculate rspm individual pollutant index(rpi)\n",
    "def calculate_(rspm):\n",
    "    rpi=0\n",
    "    if(rpi<=30):\n",
    "        rpi=rpi*50/30\n",
    "    elif(rpi>30 and rpi<=60):\n",
    "        rpi=50+(rpi-30)*50/30\n",
    "    elif(rpi>60 and rpi<=90):\n",
    "        rpi=100+(rpi-60)*100/30\n",
    "    elif(rpi>90 and rpi<=120):\n",
    "        rpi=200+(rpi-90)*100/30\n",
    "    elif(rpi>120 and rpi<=250):\n",
    "        rpi=300+(rpi-120)*(100/130)\n",
    "    else:\n",
    "        rpi=400+(rpi-250)*(100/130)\n",
    "    return rpi\n",
    "data['rpi']=data['rspm'].apply(calculate_si)\n",
    "df= data[['rspm','rpi']]\n",
    "df.tail()"
   ]
  },
  {
   "cell_type": "code",
   "execution_count": 33,
   "id": "c7d3c00a",
   "metadata": {},
   "outputs": [
    {
     "data": {
      "text/html": [
       "<div>\n",
       "<style scoped>\n",
       "    .dataframe tbody tr th:only-of-type {\n",
       "        vertical-align: middle;\n",
       "    }\n",
       "\n",
       "    .dataframe tbody tr th {\n",
       "        vertical-align: top;\n",
       "    }\n",
       "\n",
       "    .dataframe thead th {\n",
       "        text-align: right;\n",
       "    }\n",
       "</style>\n",
       "<table border=\"1\" class=\"dataframe\">\n",
       "  <thead>\n",
       "    <tr style=\"text-align: right;\">\n",
       "      <th></th>\n",
       "      <th>spm</th>\n",
       "      <th>spi</th>\n",
       "    </tr>\n",
       "  </thead>\n",
       "  <tbody>\n",
       "    <tr>\n",
       "      <th>435734</th>\n",
       "      <td>220.78348</td>\n",
       "      <td>180.52232</td>\n",
       "    </tr>\n",
       "    <tr>\n",
       "      <th>435735</th>\n",
       "      <td>220.78348</td>\n",
       "      <td>180.52232</td>\n",
       "    </tr>\n",
       "    <tr>\n",
       "      <th>435736</th>\n",
       "      <td>220.78348</td>\n",
       "      <td>180.52232</td>\n",
       "    </tr>\n",
       "    <tr>\n",
       "      <th>435737</th>\n",
       "      <td>220.78348</td>\n",
       "      <td>180.52232</td>\n",
       "    </tr>\n",
       "    <tr>\n",
       "      <th>435738</th>\n",
       "      <td>220.78348</td>\n",
       "      <td>180.52232</td>\n",
       "    </tr>\n",
       "  </tbody>\n",
       "</table>\n",
       "</div>"
      ],
      "text/plain": [
       "              spm        spi\n",
       "435734  220.78348  180.52232\n",
       "435735  220.78348  180.52232\n",
       "435736  220.78348  180.52232\n",
       "435737  220.78348  180.52232\n",
       "435738  220.78348  180.52232"
      ]
     },
     "execution_count": 33,
     "metadata": {},
     "output_type": "execute_result"
    }
   ],
   "source": [
    "#Function to calculate spm individual pollutant index(spi)\n",
    "def calculate_spi(spm):\n",
    "    spi=0\n",
    "    if(spm<=50):\n",
    "        spi=spm\n",
    "    elif(spm<50 and spm<=100):\n",
    "        spi=spm\n",
    "    elif(spm>100 and spm<=250):\n",
    "        spi= 100+(spm-100)*(100/150)\n",
    "    elif(spm>250 and spm<=350):\n",
    "        spi=200+(spm-250)\n",
    "    elif(spm>350 and spm<=450):\n",
    "        spi=300+(spm-350)*(100/80)\n",
    "    else:\n",
    "        spi=400+(spm-430)*(100/80)\n",
    "    return spi\n",
    "data['spi']=data['spm'].apply(calculate_spi)\n",
    "df= data[['spm','spi']]\n",
    "df.tail()"
   ]
  },
  {
   "cell_type": "code",
   "execution_count": 34,
   "id": "18c9b4a7",
   "metadata": {},
   "outputs": [
    {
     "data": {
      "text/html": [
       "<div>\n",
       "<style scoped>\n",
       "    .dataframe tbody tr th:only-of-type {\n",
       "        vertical-align: middle;\n",
       "    }\n",
       "\n",
       "    .dataframe tbody tr th {\n",
       "        vertical-align: top;\n",
       "    }\n",
       "\n",
       "    .dataframe thead th {\n",
       "        text-align: right;\n",
       "    }\n",
       "</style>\n",
       "<table border=\"1\" class=\"dataframe\">\n",
       "  <thead>\n",
       "    <tr style=\"text-align: right;\">\n",
       "      <th></th>\n",
       "      <th>date</th>\n",
       "      <th>state</th>\n",
       "      <th>si</th>\n",
       "      <th>ni</th>\n",
       "      <th>rpi</th>\n",
       "      <th>spi</th>\n",
       "      <th>AQI</th>\n",
       "    </tr>\n",
       "  </thead>\n",
       "  <tbody>\n",
       "    <tr>\n",
       "      <th>0</th>\n",
       "      <td>1990-02-01</td>\n",
       "      <td>Andhra Pradesh</td>\n",
       "      <td>6.000</td>\n",
       "      <td>21.750</td>\n",
       "      <td>109.61103</td>\n",
       "      <td>180.52232</td>\n",
       "      <td>180.52232</td>\n",
       "    </tr>\n",
       "    <tr>\n",
       "      <th>1</th>\n",
       "      <td>1990-02-01</td>\n",
       "      <td>Andhra Pradesh</td>\n",
       "      <td>3.875</td>\n",
       "      <td>8.750</td>\n",
       "      <td>109.61103</td>\n",
       "      <td>180.52232</td>\n",
       "      <td>180.52232</td>\n",
       "    </tr>\n",
       "    <tr>\n",
       "      <th>2</th>\n",
       "      <td>1990-02-01</td>\n",
       "      <td>Andhra Pradesh</td>\n",
       "      <td>7.750</td>\n",
       "      <td>35.625</td>\n",
       "      <td>109.61103</td>\n",
       "      <td>180.52232</td>\n",
       "      <td>180.52232</td>\n",
       "    </tr>\n",
       "    <tr>\n",
       "      <th>3</th>\n",
       "      <td>1990-03-01</td>\n",
       "      <td>Andhra Pradesh</td>\n",
       "      <td>7.875</td>\n",
       "      <td>18.375</td>\n",
       "      <td>109.61103</td>\n",
       "      <td>180.52232</td>\n",
       "      <td>180.52232</td>\n",
       "    </tr>\n",
       "    <tr>\n",
       "      <th>4</th>\n",
       "      <td>1990-03-01</td>\n",
       "      <td>Andhra Pradesh</td>\n",
       "      <td>5.875</td>\n",
       "      <td>9.375</td>\n",
       "      <td>109.61103</td>\n",
       "      <td>180.52232</td>\n",
       "      <td>180.52232</td>\n",
       "    </tr>\n",
       "  </tbody>\n",
       "</table>\n",
       "</div>"
      ],
      "text/plain": [
       "         date           state     si      ni        rpi        spi        AQI\n",
       "0  1990-02-01  Andhra Pradesh  6.000  21.750  109.61103  180.52232  180.52232\n",
       "1  1990-02-01  Andhra Pradesh  3.875   8.750  109.61103  180.52232  180.52232\n",
       "2  1990-02-01  Andhra Pradesh  7.750  35.625  109.61103  180.52232  180.52232\n",
       "3  1990-03-01  Andhra Pradesh  7.875  18.375  109.61103  180.52232  180.52232\n",
       "4  1990-03-01  Andhra Pradesh  5.875   9.375  109.61103  180.52232  180.52232"
      ]
     },
     "execution_count": 34,
     "metadata": {},
     "output_type": "execute_result"
    }
   ],
   "source": [
    "#function to calculate the air quality index (AQI) of every data value\n",
    "def calculate_aqi(si,ni,spi,rpi):\n",
    "    aqi=0\n",
    "    if(si>ni and si>spi and si>rpi):\n",
    "        aqi=si\n",
    "    if(spi>si and spi>ni and spi>rpi):\n",
    "        aqi=spi\n",
    "    if(ni>si and ni>spi and ni>rpi):\n",
    "        qi=ni\n",
    "    if(rpi>si and rpi>ni and rpi>spi):\n",
    "        aqi=rpi\n",
    "    return aqi\n",
    "data['AQI']=data.apply(lambda x:calculate_aqi(x['si'],x['ni'],x['spi'],x['rpi']),axis=1)\n",
    "df= data[['date','state','si','ni','rpi','spi','AQI']]\n",
    "df.head()"
   ]
  },
  {
   "cell_type": "markdown",
   "id": "9c430c39",
   "metadata": {},
   "source": [
    "# 5. Exporting the Purified Data"
   ]
  },
  {
   "cell_type": "code",
   "execution_count": 18,
   "id": "9b92e951",
   "metadata": {},
   "outputs": [],
   "source": [
    "data.to_csv('data_cleaned.csv')"
   ]
  },
  {
   "cell_type": "code",
   "execution_count": null,
   "id": "21738a20",
   "metadata": {},
   "outputs": [],
   "source": []
  }
 ],
 "metadata": {
  "kernelspec": {
   "display_name": "Python 3 (ipykernel)",
   "language": "python",
   "name": "python3"
  },
  "language_info": {
   "codemirror_mode": {
    "name": "ipython",
    "version": 3
   },
   "file_extension": ".py",
   "mimetype": "text/x-python",
   "name": "python",
   "nbconvert_exporter": "python",
   "pygments_lexer": "ipython3",
   "version": "3.9.12"
  }
 },
 "nbformat": 4,
 "nbformat_minor": 5
}
